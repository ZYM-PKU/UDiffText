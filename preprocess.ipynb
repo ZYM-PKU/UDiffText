{
 "cells": [
  {
   "cell_type": "code",
   "execution_count": null,
   "metadata": {},
   "outputs": [],
   "source": [
    "import torch\n",
    "\n",
    "name = \"512-inpainting-ema\"\n",
    "\n",
    "ckpt = torch.load(f\"./checkpoints/pretrained/{name}.ckpt\", map_location=\"cpu\")\n",
    "sd = ckpt[\"state_dict\"]\n",
    "keys = list(sd.keys())\n",
    "keys"
   ]
  },
  {
   "cell_type": "code",
   "execution_count": null,
   "metadata": {},
   "outputs": [],
   "source": [
    "for key in keys:\n",
    "    if not key.startswith(\"model.diffusion_model\"):\n",
    "        print(f\"Del key: {key}\")\n",
    "        sd.pop(key)"
   ]
  },
  {
   "cell_type": "code",
   "execution_count": null,
   "metadata": {},
   "outputs": [],
   "source": [
    "keys = list(sd.keys())\n",
    "for key in keys:\n",
    "    if \"attn2\" in key:\n",
    "        new_key = key.replace(\"attn2\", \"t_attn\")\n",
    "        print(f\"New_key: {new_key}\")\n",
    "        sd[new_key] = sd.pop(key)\n",
    "    elif \"norm2\" in key:\n",
    "        new_key = key.replace(\"norm2\", \"t_norm\")\n",
    "        print(f\"New_key: {new_key}\")\n",
    "        sd[new_key] = sd.pop(key)"
   ]
  },
  {
   "cell_type": "code",
   "execution_count": null,
   "metadata": {},
   "outputs": [],
   "source": [
    "ckpt[\"state_dict\"] = sd\n",
    "torch.save(ckpt, f\"./checkpoints/pretrained/{name}.ckpt\")"
   ]
  }
 ],
 "metadata": {
  "kernelspec": {
   "display_name": "udiff",
   "language": "python",
   "name": "python3"
  },
  "language_info": {
   "codemirror_mode": {
    "name": "ipython",
    "version": 3
   },
   "file_extension": ".py",
   "mimetype": "text/x-python",
   "name": "python",
   "nbconvert_exporter": "python",
   "pygments_lexer": "ipython3",
   "version": "3.11.4"
  }
 },
 "nbformat": 4,
 "nbformat_minor": 2
}
